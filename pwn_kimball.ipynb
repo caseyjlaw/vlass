{
  "cells": [
    {
      "cell_type": "code",
      "source": [
        "import numpy as np\n",
        "\n",
        "import astropy.coordinates as coords\n",
        "from astropy.io import fits\n",
        "from astropy.table import Table\n",
        "from astropy.cosmology import Planck15\n",
        "import astropy.units as u"
      ],
      "outputs": [],
      "execution_count": 1,
      "metadata": {
        "collapsed": false,
        "outputHidden": false,
        "inputHidden": false
      }
    },
    {
      "cell_type": "code",
      "source": [
        "hdu_list = fits.open(\"/Users/caseyjlaw/data/vlass/kimball_catalog/FIRST_NVSS_isolated_SDSS.fits\", memmap=True)\n",
        "tab = Table(hdu_list[1].data)\n",
        "print(tab.colnames)"
      ],
      "outputs": [
        {
          "output_type": "stream",
          "name": "stdout",
          "text": [
            "['UNIQ_ID', 'RA', 'DEC', 'DISTANCE', 'OVERLAP', 'FIRST_FPEAK', 'FIRST_FINT', 'NVSS_FLUX', 'GB6_DISTANCE', 'WENSS_FLUX', 'WENSS_DISTANCE', 'VLSS_FLUX', 'VLSS_DISTANCE', 'SDSS_MATCHTOT', 'NEAR_DISTANCE', 'NEAR_TYPE', 'NEAR_FLAGS', 'NEAR_MODELMAG_U', 'NEAR_MODELMAG_G', 'NEAR_MODELMAG_R', 'NEAR_MODELMAG_I', 'NEAR_MODELMAG_Z', 'NEAR_MODELMAGERR_U', 'NEAR_MODELMAGERR_G', 'NEAR_MODELMAGERR_R', 'NEAR_MODELMAGERR_I', 'NEAR_MODELMAGERR_Z', 'SPEC_CLASS', 'SPEC_SUBCLASS', 'SPEC_MJD', 'SPEC_PLATE', 'SPEC_FIBERID', 'SPEC_REDSHIFT', 'SPEC_REDSHIFT_WARNING', 'SPEC_VELDISP', 'SPEC_VELDISPERR']\n"
          ]
        }
      ],
      "execution_count": 2,
      "metadata": {
        "collapsed": false,
        "outputHidden": false,
        "inputHidden": false
      }
    },
    {
      "cell_type": "code",
      "source": [
        "# useful functions\n",
        "Lnu = lambda sjy, z: sjy*1e-23*4*np.pi*Planck15.luminosity_distance(z).to_value(u.cm)**2\n",
        "def alpha_LP(sl, sp, dec, sp0=9.):\n",
        "    # uses default 3sigma WENSS limit\n",
        "    alpha = np.log(sl/sp)/np.log(1.4/0.325)\n",
        "    ww = np.where(sp < 0)\n",
        "    alpha[ww] = np.log(sl[ww]/sp0)/np.log(1.4/0.325)\n",
        "    ww = np.where(dec < 30)\n",
        "    alpha[ww] = -99\n",
        "    return alpha\n",
        "\n",
        "def absmag(mag, z):\n",
        "    \"\"\" Returns zero for those with no redshift\n",
        "    \"\"\"\n",
        "\n",
        "    am = mag - Planck15.distmod(z).value\n",
        "    ww = np.where(z == 0)\n",
        "    am[ww] = 0\n",
        "    return am\n",
        "\n",
        "sc0 = 0.025 # 3sigma gb6 limit\n",
        "alpha_LC = lambda sl, sc: np.log(sl/sc)/np.log(1.4/4.85) if sc > 0 else np.log(sl/sc0)/np.log(1.4/4.85)\n",
        "\nsu0 = 0.13*3  # 3sigma vlssr limit"
      ],
      "outputs": [],
      "execution_count": 3,
      "metadata": {
        "collapsed": false,
        "outputHidden": false,
        "inputHidden": false
      }
    },
    {
      "cell_type": "code",
      "source": [
        "ln = Lnu(tab[\"FIRST_FPEAK\"]*1e-3, tab[\"SPEC_REDSHIFT\"])\n",
        "alp = alpha_LP(tab[\"FIRST_FPEAK\"], tab[\"WENSS_FLUX\"], tab[\"DEC\"])\n",
        "am = absmag(tab[\"NEAR_MODELMAG_R\"], tab[\"SPEC_REDSHIFT\"])"
      ],
      "outputs": [
        {
          "output_type": "stream",
          "name": "stderr",
          "text": [
            "/Users/caseyjlaw/anaconda/envs/py36/lib/python3.6/site-packages/ipykernel_launcher.py:5: RuntimeWarning: invalid value encountered in log\n",
            "  \"\"\"\n",
            "/Users/caseyjlaw/anaconda/envs/py36/lib/python3.6/site-packages/astropy/cosmology/core.py:1355: RuntimeWarning: divide by zero encountered in log10\n",
            "  val = 5. * np.log10(abs(self.luminosity_distance(z).value)) + 25.0\n"
          ]
        }
      ],
      "execution_count": 4,
      "metadata": {
        "collapsed": false,
        "outputHidden": false,
        "inputHidden": false
      }
    },
    {
      "cell_type": "code",
      "source": [
        "select = np.where(((alp > 0) | (alp == -99)) & (tab[\"SPEC_REDSHIFT_WARNING\"] == 0) & (tab[\"SPEC_REDSHIFT\"] > 0.001) & (tab[\"NEAR_DISTANCE\"] > 0.2) & (am > -18) & (tab[\"FIRST_FINT\"] < 1.5*tab[\"FIRST_FPEAK\"]) & (tab[\"SDSS_MATCHTOT\"] == 1))\n",
        "print(len(select[0]))   "
      ],
      "outputs": [
        {
          "output_type": "stream",
          "name": "stdout",
          "text": [
            "4\n"
          ]
        }
      ],
      "execution_count": 5,
      "metadata": {
        "collapsed": false,
        "outputHidden": false,
        "inputHidden": false
      }
    },
    {
      "cell_type": "code",
      "source": [
        "tab[\"Lnu\"] = ln\n",
        "tab[\"alpha_LP\"] = alp\n",
        "tab[\"absmag\"] = am"
      ],
      "outputs": [],
      "execution_count": 6,
      "metadata": {
        "collapsed": false,
        "outputHidden": false,
        "inputHidden": false
      }
    },
    {
      "cell_type": "code",
      "source": [
        "tab[select][[\"UNIQ_ID\", \"RA\", \"DEC\", \"FIRST_FPEAK\", \"WENSS_FLUX\", \"NEAR_DISTANCE\", \"SPEC_REDSHIFT\", \"Lnu\", \"alpha_LP\", \"absmag\"]]"
      ],
      "outputs": [
        {
          "output_type": "execute_result",
          "execution_count": 7,
          "data": {
            "text/plain": [
              "<Table length=4>\n",
              "UNIQ_ID     RA        DEC    ...  alpha_LP        absmag      \n",
              " int32   float64    float64  ...  float32        float64      \n",
              "------- ---------- --------- ... --------- -------------------\n",
              " 939657 138.343651 -0.072344 ...     -99.0 -10.767687181233338\n",
              "1479172 187.495322  0.027119 ...     -99.0  -17.15866545720334\n",
              "1777708 214.828564 39.676675 ... 0.5837585 -16.051807740922968\n",
              "1869801 223.205941  7.109006 ...     -99.0 -17.645679066319005"
            ],
            "text/html": [
              "<i>Table length=4</i>\n",
              "<table id=\"table4806276376\" class=\"table-striped table-bordered table-condensed\">\n",
              "<thead><tr><th>UNIQ_ID</th><th>RA</th><th>DEC</th><th>FIRST_FPEAK</th><th>WENSS_FLUX</th><th>NEAR_DISTANCE</th><th>SPEC_REDSHIFT</th><th>Lnu</th><th>alpha_LP</th><th>absmag</th></tr></thead>\n",
              "<thead><tr><th>int32</th><th>float64</th><th>float64</th><th>float32</th><th>float32</th><th>float32</th><th>float32</th><th>float64</th><th>float32</th><th>float64</th></tr></thead>\n",
              "<tr><td>939657</td><td>138.343651</td><td>-0.072344</td><td>9.05</td><td>-99.0</td><td>0.447943</td><td>0.00289041</td><td>1.779729750733174e+27</td><td>-99.0</td><td>-10.767687181233338</td></tr>\n",
              "<tr><td>1479172</td><td>187.495322</td><td>0.027119</td><td>1.74</td><td>-99.0</td><td>0.651723</td><td>0.0080458</td><td>2.67230753774598e+27</td><td>-99.0</td><td>-17.15866545720334</td></tr>\n",
              "<tr><td>1777708</td><td>214.828564</td><td>39.676675</td><td>21.11</td><td>-99.0</td><td>0.500032</td><td>0.01957</td><td>1.951650958821446e+29</td><td>0.5837585</td><td>-16.051807740922968</td></tr>\n",
              "<tr><td>1869801</td><td>223.205941</td><td>7.109006</td><td>3.95</td><td>-99.0</td><td>0.255829</td><td>0.509626</td><td>4.213277717061476e+31</td><td>-99.0</td><td>-17.645679066319005</td></tr>\n",
              "</table>"
            ]
          },
          "metadata": {}
        }
      ],
      "execution_count": 7,
      "metadata": {
        "collapsed": false,
        "outputHidden": false,
        "inputHidden": false
      }
    },
    {
      "cell_type": "code",
      "source": [
        "i=2\n",
        "co = coords.SkyCoord(ra=tab[select][i][\"RA\"], dec=tab[select][i][\"DEC\"], unit=(u.deg, u.deg))\n",
        "print(co.to_string('hmsdms'))"
      ],
      "outputs": [
        {
          "output_type": "stream",
          "name": "stdout",
          "text": [
            "14h19m18.8554s +39d40m36.03s\n"
          ]
        }
      ],
      "execution_count": 13,
      "metadata": {
        "collapsed": false,
        "outputHidden": false,
        "inputHidden": false
      }
    },
    {
      "cell_type": "code",
      "source": [],
      "outputs": [],
      "execution_count": null,
      "metadata": {
        "collapsed": false,
        "outputHidden": false,
        "inputHidden": false
      }
    }
  ],
  "metadata": {
    "kernel_info": {
      "name": "py36"
    },
    "language_info": {
      "name": "python",
      "version": "3.6.6",
      "mimetype": "text/x-python",
      "codemirror_mode": {
        "name": "ipython",
        "version": 3
      },
      "pygments_lexer": "ipython3",
      "nbconvert_exporter": "python",
      "file_extension": ".py"
    },
    "kernelspec": {
      "name": "py36",
      "language": "python",
      "display_name": "py36"
    },
    "nteract": {
      "version": "0.12.2"
    }
  },
  "nbformat": 4,
  "nbformat_minor": 4
}